{
 "cells": [
  {
   "cell_type": "code",
   "execution_count": 1,
   "metadata": {},
   "outputs": [
    {
     "name": "stdout",
     "output_type": "stream",
     "text": [
      "I am 36\n"
     ]
    }
   ],
   "source": [
    "class girl:\n",
    "    def __init__(self,age,hips,waist,boobs):\n",
    "        self.age = age\n",
    "        self.hips = hips\n",
    "        self.waist = waist\n",
    "        self.boobs = boobs\n",
    "\n",
    "    def describe(self):\n",
    "        print(\"I am\",self.age)\n",
    "\n",
    "girl = girl(36,36,22,34)\n",
    "\n",
    "girl.describe()\n",
    "girl.\n",
    "\n",
    "\n"
   ]
  }
 ],
 "metadata": {
  "kernelspec": {
   "display_name": "Python 3",
   "language": "python",
   "name": "python3"
  },
  "language_info": {
   "codemirror_mode": {
    "name": "ipython",
    "version": 3
   },
   "file_extension": ".py",
   "mimetype": "text/x-python",
   "name": "python",
   "nbconvert_exporter": "python",
   "pygments_lexer": "ipython3",
   "version": "3.12.0"
  }
 },
 "nbformat": 4,
 "nbformat_minor": 2
}
