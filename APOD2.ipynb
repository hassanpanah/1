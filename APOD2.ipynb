{
 "cells": [
  {
   "cell_type": "code",
   "execution_count": 1,
   "metadata": {},
   "outputs": [],
   "source": [
    "import requests\n",
    "from bs4 import BeautifulSoup\n",
    "import urllib\n",
    "from datetime import datetime"
   ]
  },
  {
   "cell_type": "code",
   "execution_count": null,
   "metadata": {},
   "outputs": [],
   "source": [
    "def download_images(url):\n",
    "    # Send a GET request to the specified URL\n",
    "    response = requests.get(url)\n",
    "    \n",
    "    # Parse the HTML content using BeautifulSoup\n",
    "    soup = BeautifulSoup(response.content, 'html.parser')\n",
    "    \n",
    "    # Find all image tags\n",
    "    img_tags = soup.find_all('img')\n",
    "    \n",
    "    # Download each image\n",
    "    for img in img_tags:\n",
    "        img_url = img['src']\n",
    "        # If the image URL is relative, convert it to absolute URL\n",
    "        if not img_url.startswith('http'):\n",
    "            img_url = url + img_url\n",
    "        \n",
    "        # Download the image\n",
    "        filename0=datetime.now()\n",
    "        fn=filename0.strftime(\"%Y%m%d\")\n",
    "        urllib.request.urlretrieve(img_url, 'D:/Pics/APOD/'+fn+'--'+img_url.split('/')[-1]+'.jpg')\n",
    "\n",
    "download_images('https://apod.nasa.gov/apod/')\n",
    "print('APOD Saved Successfully')"
   ]
  },
  {
   "cell_type": "code",
   "execution_count": null,
   "metadata": {},
   "outputs": [],
   "source": [
    "import msvcrt\n",
    "print(\"Press any key to exit...\")\n",
    "msvcrt.getch()  # waits for user input without requiring enter key"
   ]
  }
 ],
 "metadata": {
  "kernelspec": {
   "display_name": "Python 3",
   "language": "python",
   "name": "python3"
  },
  "language_info": {
   "codemirror_mode": {
    "name": "ipython",
    "version": 3
   },
   "file_extension": ".py",
   "mimetype": "text/x-python",
   "name": "python",
   "nbconvert_exporter": "python",
   "pygments_lexer": "ipython3",
   "version": "3.12.3"
  }
 },
 "nbformat": 4,
 "nbformat_minor": 2
}
